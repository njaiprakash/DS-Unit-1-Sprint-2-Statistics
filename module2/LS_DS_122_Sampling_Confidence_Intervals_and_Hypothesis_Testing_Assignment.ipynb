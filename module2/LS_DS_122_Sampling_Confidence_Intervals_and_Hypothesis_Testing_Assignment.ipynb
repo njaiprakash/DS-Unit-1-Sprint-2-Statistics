{
  "nbformat": 4,
  "nbformat_minor": 0,
  "metadata": {
    "colab": {
      "name": "LS_DS_122_Sampling_Confidence_Intervals_and_Hypothesis_Testing_Assignment.ipynb",
      "provenance": [],
      "collapsed_sections": []
    },
    "kernelspec": {
      "name": "python3",
      "display_name": "Python 3"
    }
  },
  "cells": [
    {
      "cell_type": "markdown",
      "metadata": {
        "id": "11OzdxWTM7UR",
        "colab_type": "text"
      },
      "source": [
        "## Assignment - Build a confidence interval\n",
        "\n",
        "A confidence interval refers to a neighborhood around some point estimate, the size of which is determined by the desired p-value. For instance, we might say that 52% of Americans prefer tacos to burritos, with a 95% confidence interval of +/- 5%.\n",
        "\n",
        "52% (0.52) is the point estimate, and +/- 5% (the interval $[0.47, 0.57]$) is the confidence interval. \"95% confidence\" means a p-value $\\leq 1 - 0.95 = 0.05$.\n",
        "\n",
        "In this case, the confidence interval includes $0.5$ - which is the natural null hypothesis (that half of Americans prefer tacos and half burritos, thus there is no clear favorite). So in this case, we could use the confidence interval to report that we've failed to reject the null hypothesis.\n",
        "\n",
        "But providing the full analysis with a confidence interval, including a graphical representation of it, can be a helpful and powerful way to tell your story. Done well, it is also more intuitive to a layperson than simply saying \"fail to reject the null hypothesis\" - it shows that in fact the data does *not* give a single clear result (the point estimate) but a whole range of possibilities.\n",
        "\n",
        "How is a confidence interval built, and how should it be interpreted? It does *not* mean that 95% of the data lies in that interval - instead, the frequentist interpretation is \"if we were to repeat this experiment 100 times, we would expect the average result to lie in this interval ~95 times.\"\n",
        "\n",
        "For a 95% confidence interval and a normal(-ish) distribution, you can simply remember that +/-2 standard deviations contains 95% of the probability mass, and so the 95% confidence interval based on a given sample is centered at the mean (point estimate) and has a range of +/- 2 (or technically 1.96) standard deviations.\n",
        "\n",
        "Different distributions/assumptions (90% confidence, 99% confidence) will require different math, but the overall process and interpretation (with a frequentist approach) will be the same.\n",
        "\n",
        "Your assignment - using the data from the prior module ([congressional voting records](https://archive.ics.uci.edu/ml/datasets/Congressional+Voting+Records)):\n",
        "\n",
        "\n",
        "### Confidence Intervals:\n",
        "1. Generate and numerically represent a confidence interval\n",
        "2. Graphically (with a plot) represent the confidence interval\n",
        "3. Interpret the confidence interval - what does it tell you about the data and its distribution?\n",
        "\n",
        "### Chi-squared tests:\n",
        "4. Take a dataset that we have used in the past in class that has **categorical** variables. Pick two of those categorical variables and run a chi-squared tests on that data\n",
        "  - By hand using Numpy\n",
        "  - In a single line using Scipy\n"
      ]
    },
    {
      "cell_type": "code",
      "metadata": {
        "id": "Ckcr4A4FM7cs",
        "colab_type": "code",
        "colab": {}
      },
      "source": [
        "import pandas as pd \n",
        "import numpy as np\n",
        "from scipy.stats import ttest_ind\n",
        "from scipy import stats\n"
      ],
      "execution_count": 0,
      "outputs": []
    },
    {
      "cell_type": "code",
      "metadata": {
        "id": "l1KXyy9BhLDI",
        "colab_type": "code",
        "colab": {}
      },
      "source": [
        "import seaborn as sns\n",
        "import matplotlib.pyplot as plt\n"
      ],
      "execution_count": 0,
      "outputs": []
    },
    {
      "cell_type": "code",
      "metadata": {
        "id": "ky2ULgOTmAU6",
        "colab_type": "code",
        "colab": {}
      },
      "source": [
        "col_head = ['party',\n",
        "'handicapped infants', 'water project cost sharing',\n",
        "'adoption of the budget resolution', 'physician fee freeze', 'el salvador aid', 'religious groups in schools',\n",
        "'anti satellite test ban', 'aid to nicaraguan contras', 'mx missile',\n",
        "'immigration', 'synfuels corporation cutback',\n",
        "'education spending', 'superfund right to sue', 'crime', 'duty free exports',\n",
        "'export administration act south africa']\n",
        "\n",
        "\n",
        "voters = pd.read_csv('https://archive.ics.uci.edu/ml/machine-learning-databases/voting-records/house-votes-84.data', header=None, names=col_head)\n",
        "voters = voters.replace({'?':np.NaN, 'n':0, 'y':1})\n",
        "rep = voters[voters.party =='republican']\n",
        "dem = voters[voters.party =='democrat']\n",
        "\n"
      ],
      "execution_count": 0,
      "outputs": []
    },
    {
      "cell_type": "code",
      "metadata": {
        "id": "My3Y-pp8gJMO",
        "colab_type": "code",
        "colab": {}
      },
      "source": [
        "def confidence_interval(data, confidence=0.95):\n",
        "\n",
        "  data = np.array(data)\n",
        "  mean = np.mean(data)\n",
        "  n = len(data)\n",
        "  stderr = stats.sem(data)\n",
        "  margin = stderr * stats.t.ppf((1 + confidence) / 2.0, n - 1)\n",
        "  return (mean, mean - margin, mean + margin)\n"
      ],
      "execution_count": 0,
      "outputs": []
    },
    {
      "cell_type": "code",
      "metadata": {
        "id": "vypE8eWMtnrC",
        "colab_type": "code",
        "outputId": "8d29530e-653d-403b-d6df-3beaccb1564a",
        "colab": {
          "base_uri": "https://localhost:8080/",
          "height": 69
        }
      },
      "source": [
        "eg1 = confidence_interval(rep['el salvador aid'].dropna())\n",
        "eg2 = confidence_interval(dem['el salvador aid'].dropna())\n",
        "print(eg1)\n",
        "print()\n",
        "print(eg2)"
      ],
      "execution_count": 14,
      "outputs": [
        {
          "output_type": "stream",
          "text": [
            "(0.9515151515151515, 0.9183979451371699, 0.9846323578931332)\n",
            "\n",
            "(0.21568627450980393, 0.1648631139997972, 0.26650943501981067)\n"
          ],
          "name": "stdout"
        }
      ]
    },
    {
      "cell_type": "code",
      "metadata": {
        "id": "FfEocQuMgJRO",
        "colab_type": "code",
        "outputId": "79a314d4-e0ec-4e6e-b3a0-8a4c3e2fab4c",
        "colab": {
          "base_uri": "https://localhost:8080/",
          "height": 265
        }
      },
      "source": [
        "con_int1 = confidence_interval(rep['water project cost sharing'].dropna())\n",
        "plt.axvline(x=con_int1[1], color='g')\n",
        "plt.axvline(x=con_int1[2], color='g')\n",
        "plt.axvline(x=con_int1[0], color='r')\n",
        "sns.kdeplot(rep['water project cost sharing'], color='black');"
      ],
      "execution_count": 15,
      "outputs": [
        {
          "output_type": "display_data",
          "data": {
            "image/png": "[encoded data removed]",
            "text/plain": [
              "<Figure size 432x288 with 1 Axes>"
            ]
          },
          "metadata": {
            "tags": [],
            "needs_background": "light"
          }
        }
      ]
    },
    {
      "cell_type": "code",
      "metadata": {
        "id": "X-1XS8X8gJW7",
        "colab_type": "code",
        "outputId": "8cc89ab0-3bbc-4455-fce8-dcc3a49e4084",
        "colab": {
          "base_uri": "https://localhost:8080/",
          "height": 265
        }
      },
      "source": [
        "\n",
        "con_int2 = confidence_interval(dem['water project cost sharing'].dropna())\n",
        "plt.axvline(x=con_int2[1], color='g')\n",
        "plt.axvline(x=con_int2[2], color='g')\n",
        "plt.axvline(x=con_int2[0], color='r')\n",
        "sns.kdeplot(dem['water project cost sharing'], color='black');\n"
      ],
      "execution_count": 16,
      "outputs": [
        {
          "output_type": "display_data",
          "data": {
            "image/png": "[encoded data removed]",
            "text/plain": [
              "<Figure size 432x288 with 1 Axes>"
            ]
          },
          "metadata": {
            "tags": [],
            "needs_background": "light"
          }
        }
      ]
    },
    {
      "cell_type": "markdown",
      "metadata": {
        "id": "2mhkHPgPc25G",
        "colab_type": "text"
      },
      "source": [
        "These two density graphs the votes from democrats and republicans for a particular issue. \n",
        "\n",
        "The two red lines are the mean votes for democrats and republicans, respectively. \n",
        "\n",
        "The green lines are the upper and lower bounds of the confidence intervals. \n",
        "\n",
        "We can see that both means lie well within both confidence intervals.\n",
        "\n",
        "And so on this particicular issue we fail to reject the null hypothesis that both parties vote same, since in this example, the differences are not statistically significant at the 95% confidence level. \n",
        "\n"
      ]
    },
    {
      "cell_type": "code",
      "metadata": {
        "id": "YxAEV94hgJcO",
        "colab_type": "code",
        "outputId": "8d100768-fa15-4aa8-ab1a-7a880beb826e",
        "colab": {
          "base_uri": "https://localhost:8080/",
          "height": 265
        }
      },
      "source": [
        "con_int3 = confidence_interval(rep['el salvador aid'].dropna())\n",
        "plt.axvline(x=con_int3[1], color='g')\n",
        "plt.axvline(x=con_int3[2], color='g')\n",
        "plt.axvline(x=con_int3[0], color='r')\n",
        "sns.kdeplot(rep['el salvador aid'], color='black');"
      ],
      "execution_count": 17,
      "outputs": [
        {
          "output_type": "display_data",
          "data": {
            "image/png": "[encoded data removed]",
            "text/plain": [
              "<Figure size 432x288 with 1 Axes>"
            ]
          },
          "metadata": {
            "tags": [],
            "needs_background": "light"
          }
        }
      ]
    },
    {
      "cell_type": "code",
      "metadata": {
        "id": "eDH-np3-gJWl",
        "colab_type": "code",
        "outputId": "0af6c50c-0d6d-46f4-a241-49b2134745a8",
        "colab": {
          "base_uri": "https://localhost:8080/",
          "height": 265
        }
      },
      "source": [
        "\n",
        "con_int4 = confidence_interval(dem['el salvador aid'].dropna())\n",
        "plt.axvline(x=con_int4[1], color='g')\n",
        "plt.axvline(x=con_int4[2], color='g')\n",
        "plt.axvline(x=con_int4[0], color='r')\n",
        "sns.kdeplot(dem['el salvador aid'], color='black');"
      ],
      "execution_count": 18,
      "outputs": [
        {
          "output_type": "display_data",
          "data": {
            "image/png": "[encoded data removed]",
            "text/plain": [
              "<Figure size 432x288 with 1 Axes>"
            ]
          },
          "metadata": {
            "tags": [],
            "needs_background": "light"
          }
        }
      ]
    },
    {
      "cell_type": "code",
      "metadata": {
        "id": "DRZ8WSpJgJQ3",
        "colab_type": "code",
        "colab": {}
      },
      "source": [
        ""
      ],
      "execution_count": 0,
      "outputs": []
    },
    {
      "cell_type": "markdown",
      "metadata": {
        "id": "ynda-_-Qv_--",
        "colab_type": "text"
      },
      "source": [
        "Chi-squared tests: \n",
        "\n",
        "Take a dataset that we have used in the past in class that has categorical variables. Pick two of those categorical variables and run a chi-squared tests on that data.\n",
        "\n",
        "1. By hand using Numpy  \n",
        "2. In a single line using Scipy"
      ]
    },
    {
      "cell_type": "code",
      "metadata": {
        "id": "3Giyfs4UBKkB",
        "colab_type": "code",
        "colab": {}
      },
      "source": [
        "iowa_df = pd.read_csv(\"https://raw.githubusercontent.com/ryanleeallred/datasets/master/Ames%20Housing%20Data/train.csv\")"
      ],
      "execution_count": 0,
      "outputs": []
    },
    {
      "cell_type": "code",
      "metadata": {
        "id": "EezdNbx6BKob",
        "colab_type": "code",
        "colab": {
          "base_uri": "https://localhost:8080/",
          "height": 328
        },
        "outputId": "e0f2297c-5517-4c62-e7e5-7ab9107e7986"
      },
      "source": [
        "iowa_df.columns"
      ],
      "execution_count": 28,
      "outputs": [
        {
          "output_type": "execute_result",
          "data": {
            "text/plain": [
              "Index(['Id', 'MSSubClass', 'MSZoning', 'LotFrontage', 'LotArea', 'Street',\n",
              "       'Alley', 'LotShape', 'LandContour', 'Utilities', 'LotConfig',\n",
              "       'LandSlope', 'Neighborhood', 'Condition1', 'Condition2', 'BldgType',\n",
              "       'HouseStyle', 'OverallQual', 'OverallCond', 'YearBuilt', 'YearRemodAdd',\n",
              "       'RoofStyle', 'RoofMatl', 'Exterior1st', 'Exterior2nd', 'MasVnrType',\n",
              "       'MasVnrArea', 'ExterQual', 'ExterCond', 'Foundation', 'BsmtQual',\n",
              "       'BsmtCond', 'BsmtExposure', 'BsmtFinType1', 'BsmtFinSF1',\n",
              "       'BsmtFinType2', 'BsmtFinSF2', 'BsmtUnfSF', 'TotalBsmtSF', 'Heating',\n",
              "       'HeatingQC', 'CentralAir', 'Electrical', '1stFlrSF', '2ndFlrSF',\n",
              "       'LowQualFinSF', 'GrLivArea', 'BsmtFullBath', 'BsmtHalfBath', 'FullBath',\n",
              "       'HalfBath', 'BedroomAbvGr', 'KitchenAbvGr', 'KitchenQual',\n",
              "       'TotRmsAbvGrd', 'Functional', 'Fireplaces', 'FireplaceQu', 'GarageType',\n",
              "       'GarageYrBlt', 'GarageFinish', 'GarageCars', 'GarageArea', 'GarageQual',\n",
              "       'GarageCond', 'PavedDrive', 'WoodDeckSF', 'OpenPorchSF',\n",
              "       'EnclosedPorch', '3SsnPorch', 'ScreenPorch', 'PoolArea', 'PoolQC',\n",
              "       'Fence', 'MiscFeature', 'MiscVal', 'MoSold', 'YrSold', 'SaleType',\n",
              "       'SaleCondition', 'SalePrice'],\n",
              "      dtype='object')"
            ]
          },
          "metadata": {
            "tags": []
          },
          "execution_count": 28
        }
      ]
    },
    {
      "cell_type": "code",
      "metadata": {
        "id": "_WZ5vahJBKt7",
        "colab_type": "code",
        "colab": {
          "base_uri": "https://localhost:8080/",
          "height": 69
        },
        "outputId": "064c5964-fc01-4900-9462-47e9ff5e2981"
      },
      "source": [
        "#create a new catagorical variable \n",
        "iowa_df[\"NormalCondition\"] = np.where(iowa_df[\"SaleCondition\"]==\"Normal\", \"Yes\", \"No\")\n",
        "iowa_df[\"NormalCondition\"].value_counts()"
      ],
      "execution_count": 29,
      "outputs": [
        {
          "output_type": "execute_result",
          "data": {
            "text/plain": [
              "Yes    1198\n",
              "No      262\n",
              "Name: NormalCondition, dtype: int64"
            ]
          },
          "metadata": {
            "tags": []
          },
          "execution_count": 29
        }
      ]
    },
    {
      "cell_type": "code",
      "metadata": {
        "id": "mJzhpo7bBKnx",
        "colab_type": "code",
        "colab": {
          "base_uri": "https://localhost:8080/",
          "height": 104
        },
        "outputId": "012012b0-db1b-4f4c-dc04-37204c74937b"
      },
      "source": [
        "iowa_df[\"LotShape\"].value_counts()"
      ],
      "execution_count": 30,
      "outputs": [
        {
          "output_type": "execute_result",
          "data": {
            "text/plain": [
              "Reg    925\n",
              "IR1    484\n",
              "IR2     41\n",
              "IR3     10\n",
              "Name: LotShape, dtype: int64"
            ]
          },
          "metadata": {
            "tags": []
          },
          "execution_count": 30
        }
      ]
    },
    {
      "cell_type": "code",
      "metadata": {
        "id": "F6j0mz9vBKjD",
        "colab_type": "code",
        "colab": {
          "base_uri": "https://localhost:8080/",
          "height": 86
        },
        "outputId": "3b423bdb-16b9-4878-ee4a-fe36f3acaa82"
      },
      "source": [
        "iowa_df[\"LotShape3\"] = iowa_df[\"LotShape\"].map({\"Reg\":\"Regular\", \"IR1\":\"Irregular\", \"IR2\":\"Other\", \"IR3\":\"Other\"})\n",
        "iowa_df[\"LotShape3\"].value_counts()"
      ],
      "execution_count": 31,
      "outputs": [
        {
          "output_type": "execute_result",
          "data": {
            "text/plain": [
              "Regular      925\n",
              "Irregular    484\n",
              "Other         51\n",
              "Name: LotShape3, dtype: int64"
            ]
          },
          "metadata": {
            "tags": []
          },
          "execution_count": 31
        }
      ]
    },
    {
      "cell_type": "code",
      "metadata": {
        "id": "LJO_jSSnB-gY",
        "colab_type": "code",
        "colab": {
          "base_uri": "https://localhost:8080/",
          "height": 168
        },
        "outputId": "27321360-d7d5-44d2-d91f-17b19bdee4e8"
      },
      "source": [
        "table1= pd.crosstab(iowa_df['NormalCondition'], iowa_df['LotShape3'], margins=True)\n",
        "table1.head"
      ],
      "execution_count": 34,
      "outputs": [
        {
          "output_type": "execute_result",
          "data": {
            "text/html": [
              "<div>\n",
              "<style scoped>\n",
              "    .dataframe tbody tr th:only-of-type {\n",
              "        vertical-align: middle;\n",
              "    }\n",
              "\n",
              "    .dataframe tbody tr th {\n",
              "        vertical-align: top;\n",
              "    }\n",
              "\n",
              "    .dataframe thead th {\n",
              "        text-align: right;\n",
              "    }\n",
              "</style>\n",
              "<table border=\"1\" class=\"dataframe\">\n",
              "  <thead>\n",
              "    <tr style=\"text-align: right;\">\n",
              "      <th>LotShape3</th>\n",
              "      <th>Irregular</th>\n",
              "      <th>Other</th>\n",
              "      <th>Regular</th>\n",
              "      <th>All</th>\n",
              "    </tr>\n",
              "    <tr>\n",
              "      <th>NormalCondition</th>\n",
              "      <th></th>\n",
              "      <th></th>\n",
              "      <th></th>\n",
              "      <th></th>\n",
              "    </tr>\n",
              "  </thead>\n",
              "  <tbody>\n",
              "    <tr>\n",
              "      <th>No</th>\n",
              "      <td>86</td>\n",
              "      <td>9</td>\n",
              "      <td>167</td>\n",
              "      <td>262</td>\n",
              "    </tr>\n",
              "    <tr>\n",
              "      <th>Yes</th>\n",
              "      <td>398</td>\n",
              "      <td>42</td>\n",
              "      <td>758</td>\n",
              "      <td>1198</td>\n",
              "    </tr>\n",
              "    <tr>\n",
              "      <th>All</th>\n",
              "      <td>484</td>\n",
              "      <td>51</td>\n",
              "      <td>925</td>\n",
              "      <td>1460</td>\n",
              "    </tr>\n",
              "  </tbody>\n",
              "</table>\n",
              "</div>"
            ],
            "text/plain": [
              "LotShape3        Irregular  Other  Regular   All\n",
              "NormalCondition                                 \n",
              "No                      86      9      167   262\n",
              "Yes                    398     42      758  1198\n",
              "All                    484     51      925  1460"
            ]
          },
          "metadata": {
            "tags": []
          },
          "execution_count": 34
        }
      ]
    },
    {
      "cell_type": "code",
      "metadata": {
        "id": "E9XqZiU3EFVs",
        "colab_type": "code",
        "colab": {
          "base_uri": "https://localhost:8080/",
          "height": 35
        },
        "outputId": "05a7e73b-6308-429e-ffb1-c993c9e2fd0a"
      },
      "source": [
        "row_sums = table1.iloc[0:2, 3].values\n",
        "row_sums"
      ],
      "execution_count": 47,
      "outputs": [
        {
          "output_type": "execute_result",
          "data": {
            "text/plain": [
              "array([ 262, 1198])"
            ]
          },
          "metadata": {
            "tags": []
          },
          "execution_count": 47
        }
      ]
    },
    {
      "cell_type": "code",
      "metadata": {
        "id": "uC_zyfWbEFbW",
        "colab_type": "code",
        "colab": {}
      },
      "source": [
        ""
      ],
      "execution_count": 0,
      "outputs": []
    },
    {
      "cell_type": "code",
      "metadata": {
        "id": "1xUmk0e7EFU0",
        "colab_type": "code",
        "colab": {}
      },
      "source": [
        ""
      ],
      "execution_count": 0,
      "outputs": []
    },
    {
      "cell_type": "code",
      "metadata": {
        "id": "h3nqWL3vB-mG",
        "colab_type": "code",
        "colab": {
          "base_uri": "https://localhost:8080/",
          "height": 69
        },
        "outputId": "a0086bda-6a40-4cf6-fa39-0cde468aa84d"
      },
      "source": [
        "row_sums = table1.iloc[0:2, 3].values\n",
        "col_sums = table1.iloc[2, 0:3].values\n",
        "total = table1.loc['All','All']\n",
        "print(row_sums)\n",
        "print(col_sums)\n",
        "\n",
        "expected = []\n",
        "for i in range(len(row_sums)):\n",
        "  expected_row = []\n",
        "  for column in col_sums:\n",
        "    expected_val = column*row_sums[i]/total\n",
        "    expected_row.append(expected_val)\n",
        "  expected.append(expected_row)\n",
        "expected = np.array(expected)\n",
        "print(expected.shape) "
      ],
      "execution_count": 48,
      "outputs": [
        {
          "output_type": "stream",
          "text": [
            "[ 262 1198]\n",
            "[484  51 925]\n",
            "(2, 3)\n"
          ],
          "name": "stdout"
        }
      ]
    },
    {
      "cell_type": "code",
      "metadata": {
        "id": "fWc_ThjsB-r5",
        "colab_type": "code",
        "colab": {
          "base_uri": "https://localhost:8080/",
          "height": 86
        },
        "outputId": "7e26466d-9abd-4101-9071-056f28671591"
      },
      "source": [
        "observed = pd.crosstab(iowa_df['NormalCondition'], iowa_df['LotShape3']).values\n",
        "chi_squared = ((observed - expected)**2/(expected)).sum() \n",
        "dof = (len(row_sums)-1)*(len(col_sums)-1)\n",
        "\n",
        "print(chi_squared)\n",
        "print(dof)\n",
        "print(expected) "
      ],
      "execution_count": 50,
      "outputs": [
        {
          "output_type": "stream",
          "text": [
            "0.020773950605841196\n",
            "2\n",
            "[[ 86.85479452   9.15205479 165.99315068]\n",
            " [397.14520548  41.84794521 759.00684932]]\n"
          ],
          "name": "stdout"
        }
      ]
    },
    {
      "cell_type": "code",
      "metadata": {
        "id": "nUSXQ1I2B-x-",
        "colab_type": "code",
        "colab": {}
      },
      "source": [
        ""
      ],
      "execution_count": 0,
      "outputs": []
    },
    {
      "cell_type": "code",
      "metadata": {
        "id": "Ys9IJyRIB-3L",
        "colab_type": "code",
        "colab": {
          "base_uri": "https://localhost:8080/",
          "height": 121
        },
        "outputId": "aa08656d-b54c-46e6-fb05-5a9d3525ba69"
      },
      "source": [
        "chi_squared, p_value, dof, expected = stats.chi2_contingency(observed)\n",
        "\n",
        "print(f\"Chi-Squared: {chi_squared}\")\n",
        "print(f\"P-value: {p_value}\")\n",
        "print(f\"Degrees of Freedom: {dof}\") \n",
        "print(\"Expected: \\n\", np.array(expected))"
      ],
      "execution_count": 51,
      "outputs": [
        {
          "output_type": "stream",
          "text": [
            "Chi-Squared: 0.020773950605841196\n",
            "P-value: 0.9896667830352097\n",
            "Degrees of Freedom: 2\n",
            "Expected: \n",
            " [[ 86.85479452   9.15205479 165.99315068]\n",
            " [397.14520548  41.84794521 759.00684932]]\n"
          ],
          "name": "stdout"
        }
      ]
    },
    {
      "cell_type": "code",
      "metadata": {
        "id": "Q8rQLWxLB-2w",
        "colab_type": "code",
        "colab": {}
      },
      "source": [
        ""
      ],
      "execution_count": 0,
      "outputs": []
    },
    {
      "cell_type": "code",
      "metadata": {
        "id": "ZxZ-4Jv_B-xk",
        "colab_type": "code",
        "colab": {}
      },
      "source": [
        "iowa_df['SaleCondition'].value_counts()\n",
        "iowa_df['LotShape'].value_counts()"
      ],
      "execution_count": 0,
      "outputs": []
    },
    {
      "cell_type": "code",
      "metadata": {
        "id": "Hr0RizzvB-rd",
        "colab_type": "code",
        "colab": {}
      },
      "source": [
        "table= pd.crosstab(iowa_df['SaleCondition'], iowa_df['LotShape'], margins=True)"
      ],
      "execution_count": 0,
      "outputs": []
    },
    {
      "cell_type": "code",
      "metadata": {
        "id": "hTZvfeMHB-lp",
        "colab_type": "code",
        "colab": {}
      },
      "source": [
        "row = table.iloc[0:4, 4].values\n",
        "col = table.iloc[4, 0:4].values\n",
        "tot = table.loc['All','All']\n",
        "print(row)\n",
        "print(col)\n",
        "exptd = []\n",
        "for i in range(len(row)):\n",
        "  exptd_row = []\n",
        "  for colmn in col:\n",
        "    exptd_val = colmn*row[i]/tot\n",
        "    exptd_row.append(exptd_val)\n",
        "  exptd.append(exptd_row)\n",
        "exptd = np.array(exptd)\n",
        "print(exptd.shape)"
      ],
      "execution_count": 0,
      "outputs": []
    },
    {
      "cell_type": "code",
      "metadata": {
        "id": "YXiHjcT5PPGv",
        "colab_type": "code",
        "colab": {}
      },
      "source": [
        "obsrvd = pd.crosstab(iowa_df['SaleCondition'], iowa_df['LotShape']).values\n",
        "ch_sq = ((obsrvd - exptd)**2/(exptd)).sum()\n",
        "do_f = (len(row)-1)*(len(col)-1)\n",
        "\n",
        "print(ch_sq)\n",
        "print(do_f)\n",
        "print(exptd) "
      ],
      "execution_count": 0,
      "outputs": []
    },
    {
      "cell_type": "code",
      "metadata": {
        "id": "DkB4UpU1PPLb",
        "colab_type": "code",
        "colab": {}
      },
      "source": [
        ""
      ],
      "execution_count": 0,
      "outputs": []
    },
    {
      "cell_type": "code",
      "metadata": {
        "id": "kIHvxjTqPPRB",
        "colab_type": "code",
        "colab": {}
      },
      "source": [
        ""
      ],
      "execution_count": 0,
      "outputs": []
    },
    {
      "cell_type": "code",
      "metadata": {
        "id": "h2Ta8aMMPPW2",
        "colab_type": "code",
        "colab": {}
      },
      "source": [
        ""
      ],
      "execution_count": 0,
      "outputs": []
    },
    {
      "cell_type": "code",
      "metadata": {
        "id": "TYcO3PU_PPWT",
        "colab_type": "code",
        "colab": {}
      },
      "source": [
        ""
      ],
      "execution_count": 0,
      "outputs": []
    },
    {
      "cell_type": "code",
      "metadata": {
        "id": "CB53Z1EyPPK4",
        "colab_type": "code",
        "colab": {}
      },
      "source": [
        ""
      ],
      "execution_count": 0,
      "outputs": []
    },
    {
      "cell_type": "code",
      "metadata": {
        "id": "GZh3_OGRPPFo",
        "colab_type": "code",
        "colab": {}
      },
      "source": [
        ""
      ],
      "execution_count": 0,
      "outputs": []
    },
    {
      "cell_type": "code",
      "metadata": {
        "id": "0j8tEuJYB-f4",
        "colab_type": "code",
        "colab": {}
      },
      "source": [
        ""
      ],
      "execution_count": 0,
      "outputs": []
    },
    {
      "cell_type": "markdown",
      "metadata": {
        "id": "4ohsJhQUmEuS",
        "colab_type": "text"
      },
      "source": [
        "## Stretch goals:\n",
        "\n",
        "1. Write a summary of your findings, mixing prose and math/code/results. *Note* - yes, this is by definition a political topic. It is challenging but important to keep your writing voice *neutral* and stick to the facts of the data. Data science often involves considering controversial issues, so it's important to be sensitive about them (especially if you want to publish).\n",
        "2. Apply the techniques you learned today to your project data or other data of your choice, and write/discuss your findings here.\n",
        "3. Refactor your code so it is elegant, readable, and can be easily run for all issues."
      ]
    },
    {
      "cell_type": "markdown",
      "metadata": {
        "id": "nyJ3ySr7R2k9",
        "colab_type": "text"
      },
      "source": [
        "## Resources\n",
        "\n",
        "- [Interactive visualize the Chi-Squared test](https://homepage.divms.uiowa.edu/~mbognar/applets/chisq.html)\n",
        "- [Calculation of Chi-Squared test statistic](https://en.wikipedia.org/wiki/Pearson%27s_chi-squared_test)\n",
        "- [Visualization of a confidence interval generated by R code](https://commons.wikimedia.org/wiki/File:Confidence-interval.svg)\n",
        "- [Expected value of a squared standard normal](https://math.stackexchange.com/questions/264061/expected-value-calculation-for-squared-normal-distribution) (it's 1 - which is why the expected value of a Chi-Squared with $n$ degrees of freedom is $n$, as it's the sum of $n$ squared standard normals)"
      ]
    }
  ]
}